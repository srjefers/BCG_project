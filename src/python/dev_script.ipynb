{
 "cells": [
  {
   "cell_type": "code",
   "execution_count": 239,
   "metadata": {},
   "outputs": [],
   "source": [
    "from dotenv import load_dotenv\n",
    "import requests\n",
    "import json\n",
    "import os\n",
    "from sqlalchemy import create_engine\n",
    "import pandas as pd\n",
    "import time"
   ]
  },
  {
   "cell_type": "markdown",
   "metadata": {},
   "source": [
    "## Consuming API"
   ]
  },
  {
   "cell_type": "code",
   "execution_count": 240,
   "metadata": {},
   "outputs": [],
   "source": [
    "\"\"\"\n",
    "    ...\n",
    "\"\"\"\n",
    "load_dotenv()\n",
    "api_token = os.getenv(\"API_Token\")\n",
    "\n",
    "\"\"\"\n",
    "    /v4/competitions/{id}/teams\n",
    "    List all teams for a particular competition.\n",
    "\"\"\"\n",
    "headers = {'X-Auth-Token': api_token}\n",
    "\n",
    "\n",
    "# GET ALL COMPETITIONS --+ 10\n",
    "uri = \"https://api.football-data.org/v4/competitions\"\n",
    "arr_competition_id = []\n",
    "response = requests.get(uri,headers=headers)\n",
    "if response.status_code == 200:   \n",
    "    with open('./data_json/competitions.json', 'w') as f:\n",
    "        json.dump(response.json(), f, ensure_ascii=False, indent=4)\n",
    "    for competition in response.json()['competitions']:\n",
    "        arr_competition_id.append(competition['id'])\n",
    "else:\n",
    "    print('Error')"
   ]
  },
  {
   "cell_type": "code",
   "execution_count": 244,
   "metadata": {},
   "outputs": [
    {
     "name": "stdout",
     "output_type": "stream",
     "text": [
      "[2013, 2016, 2021, 2001, 2018, 2015, 2002, 2019, 2003, 2017, 2152, 2014, 2000]\n"
     ]
    }
   ],
   "source": [
    "print(arr_competition_id)"
   ]
  },
  {
   "cell_type": "code",
   "execution_count": 245,
   "metadata": {},
   "outputs": [
    {
     "name": "stdout",
     "output_type": "stream",
     "text": [
      "API Status ... ... [LIMIT]\n",
      "API Status ... ... [CHECKING]\n",
      "API Status ... ... [OK]\n"
     ]
    }
   ],
   "source": [
    "json_competition_teams = []\n",
    "\n",
    "for competition_id in arr_competition_id: \n",
    "    uri_competition_teams = f\"http://api.football-data.org/v4/competitions/{competition_id}/teams\"\n",
    "    response = requests.get(uri_competition_teams,headers=headers)\n",
    "    if response.status_code == 429:\n",
    "        print('API Status ... ... [LIMIT ERROR]')\n",
    "        time.sleep(60)\n",
    "        print('API Status ... ... [CHECKING]')\n",
    "        response = requests.get(uri_competition_teams,headers=headers)\n",
    "        print('API Status ... ... [OK]')\n",
    "\n",
    "    if response.status_code == 200:\n",
    "        json_competition_teams.append(response.json())\n",
    "    else:\n",
    "        print('Error' + str(response.status_code))\n",
    "\n",
    "with open('./data_json/competition_teams.json', 'w') as f:\n",
    "    json.dump(json_competition_teams, f, ensure_ascii=False, indent=4)\n"
   ]
  },
  {
   "cell_type": "code",
   "execution_count": null,
   "metadata": {},
   "outputs": [],
   "source": [
    "\"\"\"\n",
    "# GET ALL TEAMS --+ 50\n",
    "uri = \"https://api.football-data.org/v4/teams\"\n",
    "response = requests.get(uri,headers=headers)\n",
    "if response.status_code == 200:\n",
    "    print(len(response.json()['teams'])) \n",
    "    #for match in response.json()['teams']:\n",
    "    #    print(match)\n",
    "else:\n",
    "    print('Error')\n",
    "\"\"\""
   ]
  },
  {
   "cell_type": "code",
   "execution_count": null,
   "metadata": {},
   "outputs": [],
   "source": [
    "# https://docs.football-data.org/general/v4/errors.html#_429_too_many_requests"
   ]
  },
  {
   "cell_type": "markdown",
   "metadata": {},
   "source": [
    "## Inserting data into SQLITE"
   ]
  },
  {
   "cell_type": "code",
   "execution_count": 246,
   "metadata": {},
   "outputs": [],
   "source": [
    "engine = create_engine('sqlite:///./data/db_bcg_project.db') "
   ]
  },
  {
   "cell_type": "code",
   "execution_count": 247,
   "metadata": {},
   "outputs": [
    {
     "data": {
      "text/plain": [
       "13"
      ]
     },
     "execution_count": 247,
     "metadata": {},
     "output_type": "execute_result"
    }
   ],
   "source": [
    "data_competitions = None\n",
    "with open('./data_json/competitions.json', 'r') as file:\n",
    "    data_competitions = json.loads(file.read())\n",
    "\n",
    "pd_series_competitions = pd.Series(data_competitions['competitions'])\n",
    "\n",
    "df_competitions = pd_series_competitions.to_frame()\n",
    "df_competitions = pd.json_normalize(df_competitions[0])\n",
    "df_competitions = df_competitions[['id','name']]\n",
    "\n",
    "df_competitions.head(n=0).to_sql(name='dim_competitions', con=engine, index=False, if_exists='replace')\n",
    "df_competitions.to_sql(name='dim_competitions', con=engine, index=False, if_exists='append')\n"
   ]
  },
  {
   "cell_type": "code",
   "execution_count": 248,
   "metadata": {},
   "outputs": [],
   "source": [
    "data_competition_teams = None\n",
    "with open('./data_json/competition_teams.json', 'r') as file:\n",
    "    data_competition_teams = json.loads(file.read())\n",
    "\n",
    "pd_serie_competition_teams = pd.Series(data_competition_teams)\n",
    "\n",
    "df_competition_teams = pd_serie_competition_teams.to_frame()\n",
    "df_competition_teams = pd.json_normalize(df_competition_teams[0],'teams',[['competition','id'],['competition','name']])\n",
    "df_competition_teams = df_competition_teams.rename(columns={'competition.id':'fact_competitions','competition.name':'competition_name','id':'team_id'})\n",
    "\n",
    "df_competition_teams = df_competition_teams[['team_id','name','shortName','tla','fact_competitions','competition_name']]\n",
    "df_competition_teams_fact = df_competition_teams[['fact_competitions','team_id']]\n",
    "\n",
    "df_teams_dim = df_competition_teams[['team_id','name']]\n",
    "df_teams_dim = df_teams_dim.rename(columns={'team_id':'id'})\n",
    "df_teams_dim = df_teams_dim.drop_duplicates()\n"
   ]
  },
  {
   "cell_type": "code",
   "execution_count": 249,
   "metadata": {},
   "outputs": [
    {
     "data": {
      "text/plain": [
       "311"
      ]
     },
     "execution_count": 249,
     "metadata": {},
     "output_type": "execute_result"
    }
   ],
   "source": [
    "# fact\n",
    "df_competition_teams_fact.head(n=0).to_sql(name='fact_competitions', con=engine, index=False, if_exists='replace')\n",
    "df_competition_teams_fact.to_sql(name='fact_competitions', con=engine, index=False, if_exists='append')\n"
   ]
  },
  {
   "cell_type": "code",
   "execution_count": 250,
   "metadata": {},
   "outputs": [
    {
     "data": {
      "text/plain": [
       "264"
      ]
     },
     "execution_count": 250,
     "metadata": {},
     "output_type": "execute_result"
    }
   ],
   "source": [
    "# dimension\n",
    "df_teams_dim.head(n=0).to_sql(name='dim_teams', con=engine, index=False, if_exists='replace')\n",
    "df_teams_dim.to_sql(name='dim_teams', con=engine, index=False, if_exists='append')"
   ]
  },
  {
   "cell_type": "markdown",
   "metadata": {},
   "source": [
    "## Datamart"
   ]
  },
  {
   "cell_type": "code",
   "execution_count": 251,
   "metadata": {},
   "outputs": [],
   "source": [
    "df_export = pd.read_sql('''\n",
    "    with dim_teams_cte as (\n",
    "        select * from dim_teams\n",
    "    ),\n",
    "    dim_competitions_cte as (\n",
    "        select * from dim_competitions\n",
    "    ),\n",
    "    fact_competitions_cte as (\n",
    "        select * from fact_competitions\n",
    "    ),\n",
    "    final as (\n",
    "        select  \n",
    "            dim_competitions_cte.name,  \n",
    "            count(dim_teams_cte.id) nm_teams\n",
    "        from fact_competitions_cte\n",
    "        left join dim_competitions_cte on dim_competitions_cte.id = fact_competitions_cte.fact_competitions\n",
    "        left join dim_teams_cte on dim_teams_cte.id = fact_competitions_cte.team_id\n",
    "        group by dim_competitions_cte.name\n",
    "        order by nm_teams desc\n",
    "    )\n",
    "    select * from final\n",
    "''',engine)"
   ]
  },
  {
   "cell_type": "code",
   "execution_count": 252,
   "metadata": {},
   "outputs": [
    {
     "data": {
      "text/html": [
       "<div>\n",
       "<style scoped>\n",
       "    .dataframe tbody tr th:only-of-type {\n",
       "        vertical-align: middle;\n",
       "    }\n",
       "\n",
       "    .dataframe tbody tr th {\n",
       "        vertical-align: top;\n",
       "    }\n",
       "\n",
       "    .dataframe thead th {\n",
       "        text-align: right;\n",
       "    }\n",
       "</style>\n",
       "<table border=\"1\" class=\"dataframe\">\n",
       "  <thead>\n",
       "    <tr style=\"text-align: right;\">\n",
       "      <th></th>\n",
       "      <th>name</th>\n",
       "      <th>nm_teams</th>\n",
       "    </tr>\n",
       "  </thead>\n",
       "  <tbody>\n",
       "    <tr>\n",
       "      <th>0</th>\n",
       "      <td>Copa Libertadores</td>\n",
       "      <td>47</td>\n",
       "    </tr>\n",
       "    <tr>\n",
       "      <th>1</th>\n",
       "      <td>UEFA Champions League</td>\n",
       "      <td>32</td>\n",
       "    </tr>\n",
       "    <tr>\n",
       "      <th>2</th>\n",
       "      <td>FIFA World Cup</td>\n",
       "      <td>32</td>\n",
       "    </tr>\n",
       "    <tr>\n",
       "      <th>3</th>\n",
       "      <td>European Championship</td>\n",
       "      <td>24</td>\n",
       "    </tr>\n",
       "    <tr>\n",
       "      <th>4</th>\n",
       "      <td>Championship</td>\n",
       "      <td>24</td>\n",
       "    </tr>\n",
       "    <tr>\n",
       "      <th>5</th>\n",
       "      <td>Serie A</td>\n",
       "      <td>20</td>\n",
       "    </tr>\n",
       "    <tr>\n",
       "      <th>6</th>\n",
       "      <td>Primera Division</td>\n",
       "      <td>20</td>\n",
       "    </tr>\n",
       "    <tr>\n",
       "      <th>7</th>\n",
       "      <td>Premier League</td>\n",
       "      <td>20</td>\n",
       "    </tr>\n",
       "    <tr>\n",
       "      <th>8</th>\n",
       "      <td>Campeonato Brasileiro Série A</td>\n",
       "      <td>20</td>\n",
       "    </tr>\n",
       "    <tr>\n",
       "      <th>9</th>\n",
       "      <td>Primeira Liga</td>\n",
       "      <td>18</td>\n",
       "    </tr>\n",
       "    <tr>\n",
       "      <th>10</th>\n",
       "      <td>Ligue 1</td>\n",
       "      <td>18</td>\n",
       "    </tr>\n",
       "    <tr>\n",
       "      <th>11</th>\n",
       "      <td>Eredivisie</td>\n",
       "      <td>18</td>\n",
       "    </tr>\n",
       "    <tr>\n",
       "      <th>12</th>\n",
       "      <td>Bundesliga</td>\n",
       "      <td>18</td>\n",
       "    </tr>\n",
       "  </tbody>\n",
       "</table>\n",
       "</div>"
      ],
      "text/plain": [
       "                             name  nm_teams\n",
       "0               Copa Libertadores        47\n",
       "1           UEFA Champions League        32\n",
       "2                  FIFA World Cup        32\n",
       "3           European Championship        24\n",
       "4                    Championship        24\n",
       "5                         Serie A        20\n",
       "6                Primera Division        20\n",
       "7                  Premier League        20\n",
       "8   Campeonato Brasileiro Série A        20\n",
       "9                   Primeira Liga        18\n",
       "10                        Ligue 1        18\n",
       "11                     Eredivisie        18\n",
       "12                     Bundesliga        18"
      ]
     },
     "execution_count": 252,
     "metadata": {},
     "output_type": "execute_result"
    }
   ],
   "source": [
    "df_export"
   ]
  },
  {
   "cell_type": "code",
   "execution_count": 225,
   "metadata": {},
   "outputs": [],
   "source": [
    "df_export.to_csv('./outputs/data.csv', index=False)  "
   ]
  },
  {
   "cell_type": "markdown",
   "metadata": {},
   "source": [
    "## Commands\n",
    "\n",
    "```bash\n",
    "conda env create -f environment.yaml\n",
    "conda activate bcg_project\n",
    "conda deactivate\n",
    "\n",
    "sudo apt install sqlite3\n",
    "sqlite3 db_name.db\n",
    "```"
   ]
  }
 ],
 "metadata": {
  "kernelspec": {
   "display_name": "bcg_project",
   "language": "python",
   "name": "python3"
  },
  "language_info": {
   "codemirror_mode": {
    "name": "ipython",
    "version": 3
   },
   "file_extension": ".py",
   "mimetype": "text/x-python",
   "name": "python",
   "nbconvert_exporter": "python",
   "pygments_lexer": "ipython3",
   "version": "3.12.4"
  }
 },
 "nbformat": 4,
 "nbformat_minor": 2
}
