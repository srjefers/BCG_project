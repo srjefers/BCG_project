{
 "cells": [
  {
   "cell_type": "code",
   "execution_count": 223,
   "metadata": {},
   "outputs": [],
   "source": [
    "from dotenv import load_dotenv\n",
    "import requests\n",
    "import json\n",
    "import os\n",
    "from sqlalchemy import create_engine\n",
    "import pandas as pd"
   ]
  },
  {
   "cell_type": "markdown",
   "metadata": {},
   "source": [
    "## Consuming API"
   ]
  },
  {
   "cell_type": "code",
   "execution_count": 204,
   "metadata": {},
   "outputs": [],
   "source": [
    "\"\"\"\n",
    "    ...\n",
    "\"\"\"\n",
    "load_dotenv()\n",
    "api_token = os.getenv(\"API_Token\")\n",
    "\n",
    "\"\"\"\n",
    "    /v4/competitions/{id}/teams\n",
    "    List all teams for a particular competition.\n",
    "\"\"\"\n",
    "headers = {'X-Auth-Token': api_token}\n",
    "\n",
    "\n",
    "# GET ALL COMPETITIONS --+ 10\n",
    "uri = \"https://api.football-data.org/v4/competitions\"\n",
    "arr_competition_id = []\n",
    "response = requests.get(uri,headers=headers)\n",
    "if response.status_code == 200:   \n",
    "    with open('./data_json/competitions.json', 'w') as f:\n",
    "        json.dump(response.json(), f, ensure_ascii=False, indent=4)\n",
    "    for competition in response.json()['competitions']:\n",
    "        arr_competition_id.append(competition['id'])\n",
    "else:\n",
    "    print('Error')"
   ]
  },
  {
   "cell_type": "code",
   "execution_count": 205,
   "metadata": {},
   "outputs": [
    {
     "name": "stdout",
     "output_type": "stream",
     "text": [
      "[2013, 2016, 2021, 2001, 2018, 2015, 2002, 2019, 2003, 2017, 2152, 2014, 2000]\n"
     ]
    }
   ],
   "source": [
    "print(arr_competition_id)"
   ]
  },
  {
   "cell_type": "code",
   "execution_count": 206,
   "metadata": {},
   "outputs": [
    {
     "name": "stdout",
     "output_type": "stream",
     "text": [
      "Error429\n",
      "Error429\n",
      "Error429\n"
     ]
    }
   ],
   "source": [
    "json_competition_teams = []\n",
    "status_code_loop = 200\n",
    "\n",
    "for competition_id in arr_competition_id: \n",
    "    uri_competition_teams = f\"http://api.football-data.org/v4/competitions/{competition_id}/teams\"\n",
    "    response = requests.get(uri_competition_teams,headers=headers)\n",
    "    if response.status_code == 200:\n",
    "        json_competition_teams.append(response.json())\n",
    "        status_code_loop = response.status_code\n",
    "    else:\n",
    "        status_code_loop = response.status_code\n",
    "        print('Error' + str(response.status_code))\n",
    "\n",
    "with open('./data_json/competition_teams.json', 'w') as f:\n",
    "    json.dump(json_competition_teams, f, ensure_ascii=False, indent=4)\n"
   ]
  },
  {
   "cell_type": "code",
   "execution_count": null,
   "metadata": {},
   "outputs": [],
   "source": [
    "\"\"\"\n",
    "# GET ALL TEAMS --+ 50\n",
    "uri = \"https://api.football-data.org/v4/teams\"\n",
    "response = requests.get(uri,headers=headers)\n",
    "if response.status_code == 200:\n",
    "    print(len(response.json()['teams'])) \n",
    "    #for match in response.json()['teams']:\n",
    "    #    print(match)\n",
    "else:\n",
    "    print('Error')\n",
    "\"\"\""
   ]
  },
  {
   "cell_type": "code",
   "execution_count": null,
   "metadata": {},
   "outputs": [],
   "source": [
    "# https://docs.football-data.org/general/v4/errors.html#_429_too_many_requests"
   ]
  },
  {
   "cell_type": "markdown",
   "metadata": {},
   "source": [
    "## Inserting data into SQLITE"
   ]
  },
  {
   "cell_type": "code",
   "execution_count": 207,
   "metadata": {},
   "outputs": [],
   "source": [
    "engine = create_engine('sqlite:///./data/db_bcg_project.db') # ensure this is the correct path for the sqlite file. "
   ]
  },
  {
   "cell_type": "code",
   "execution_count": 218,
   "metadata": {},
   "outputs": [
    {
     "data": {
      "text/plain": [
       "13"
      ]
     },
     "execution_count": 218,
     "metadata": {},
     "output_type": "execute_result"
    }
   ],
   "source": [
    "data_competitions = None\n",
    "with open('./data_json/competitions.json', 'r') as file:\n",
    "    data_competitions = json.loads(file.read())\n",
    "\n",
    "pd_series_competitions = pd.Series(data_competitions['competitions'])\n",
    "\n",
    "df_competitions = pd_series_competitions.to_frame()\n",
    "df_competitions = pd.json_normalize(df_competitions[0])\n",
    "df_competitions = df_competitions[['id','name']]\n",
    "\n",
    "df_competitions.head(n=0).to_sql(name='dim_competitions', con=engine, index=False, if_exists='replace')\n",
    "df_competitions.to_sql(name='dim_competitions', con=engine, index=False, if_exists='append')\n"
   ]
  },
  {
   "cell_type": "code",
   "execution_count": 209,
   "metadata": {},
   "outputs": [],
   "source": [
    "data_competition_teams = None\n",
    "with open('./data_json/competition_teams.json', 'r') as file:\n",
    "    data_competition_teams = json.loads(file.read())\n",
    "\n",
    "pd_serie_competition_teams = pd.Series(data_competition_teams)\n",
    "\n",
    "df_competition_teams = pd_serie_competition_teams.to_frame()\n",
    "df_competition_teams = pd.json_normalize(df_competition_teams[0],'teams',[['competition','id'],['competition','name']])\n",
    "df_competition_teams = df_competition_teams.rename(columns={'competition.id':'fact_competitions','competition.name':'competition_name','id':'team_id'})\n",
    "\n",
    "df_competition_teams = df_competition_teams[['team_id','name','shortName','tla','fact_competitions','competition_name']]\n",
    "df_competition_teams_fact = df_competition_teams[['fact_competitions','team_id']]\n",
    "\n",
    "df_teams_dim = df_competition_teams[['team_id','name']]\n",
    "df_teams_dim = df_teams_dim.rename(columns={'team_id':'id'})\n",
    "df_teams_dim = df_teams_dim.drop_duplicates()\n"
   ]
  },
  {
   "cell_type": "code",
   "execution_count": 210,
   "metadata": {},
   "outputs": [
    {
     "data": {
      "text/plain": [
       "212"
      ]
     },
     "execution_count": 210,
     "metadata": {},
     "output_type": "execute_result"
    }
   ],
   "source": [
    "# fact\n",
    "df_competition_teams_fact.head(n=0).to_sql(name='fact_competitions', con=engine, index=False, if_exists='replace')\n",
    "df_competition_teams_fact.to_sql(name='fact_competitions', con=engine, index=False, if_exists='append')\n"
   ]
  },
  {
   "cell_type": "code",
   "execution_count": 211,
   "metadata": {},
   "outputs": [
    {
     "data": {
      "text/plain": [
       "190"
      ]
     },
     "execution_count": 211,
     "metadata": {},
     "output_type": "execute_result"
    }
   ],
   "source": [
    "# dimension\n",
    "df_teams_dim.head(n=0).to_sql(name='dim_teams', con=engine, index=False, if_exists='replace')\n",
    "df_teams_dim.to_sql(name='dim_teams', con=engine, index=False, if_exists='append')"
   ]
  },
  {
   "cell_type": "markdown",
   "metadata": {},
   "source": [
    "## Datamart"
   ]
  },
  {
   "cell_type": "code",
   "execution_count": 224,
   "metadata": {},
   "outputs": [],
   "source": [
    "df_export = pd.read_sql('''\n",
    "    with dim_teams_cte as (\n",
    "        select * from dim_teams\n",
    "    ),\n",
    "    dim_competitions_cte as (\n",
    "        select * from dim_competitions\n",
    "    ),\n",
    "    fact_competitions_cte as (\n",
    "        select * from fact_competitions\n",
    "    ),\n",
    "    final as (\n",
    "        select  \n",
    "            dim_competitions_cte.name,  \n",
    "            count(dim_teams_cte.id) nm_teams\n",
    "        from fact_competitions_cte\n",
    "        left join dim_competitions_cte on dim_competitions_cte.id = fact_competitions_cte.fact_competitions\n",
    "        left join dim_teams_cte on dim_teams_cte.id = fact_competitions_cte.team_id\n",
    "        group by dim_competitions_cte.name\n",
    "        order by nm_teams desc\n",
    "    )\n",
    "    select * from final\n",
    "''',engine)"
   ]
  },
  {
   "cell_type": "code",
   "execution_count": 225,
   "metadata": {},
   "outputs": [],
   "source": [
    "df_export.to_csv('./outputs/data.csv', index=False)  "
   ]
  },
  {
   "cell_type": "markdown",
   "metadata": {},
   "source": [
    "## Commands\n",
    "\n",
    "```bash\n",
    "conda env create -f environment.yaml\n",
    "conda activate bcg_project\n",
    "conda deactivate\n",
    "\n",
    "sudo apt install sqlite3\n",
    "sqlite3 db_name.db\n",
    "```"
   ]
  }
 ],
 "metadata": {
  "kernelspec": {
   "display_name": "bcg_project",
   "language": "python",
   "name": "python3"
  },
  "language_info": {
   "codemirror_mode": {
    "name": "ipython",
    "version": 3
   },
   "file_extension": ".py",
   "mimetype": "text/x-python",
   "name": "python",
   "nbconvert_exporter": "python",
   "pygments_lexer": "ipython3",
   "version": "3.12.4"
  }
 },
 "nbformat": 4,
 "nbformat_minor": 2
}
